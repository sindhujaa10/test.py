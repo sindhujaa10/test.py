{
 "cells": [
  {
   "cell_type": "markdown",
   "id": "113d59fd",
   "metadata": {},
   "source": [
    "# Data Science Tools and Ecosystem"
   ]
  },
  {
   "cell_type": "markdown",
   "id": "bef9652e",
   "metadata": {},
   "source": [
    "# In this notebook, Data Science Tools and Ecosystem are summarized."
   ]
  },
  {
   "cell_type": "markdown",
   "id": "4efacada",
   "metadata": {},
   "source": [
    "### Some of the popular languages that Data Scientists use are: Some of the commonly used libraries used by Data Scientists include\n",
    "\n",
    "1. Python\n",
    "2. R\n",
    "3. SQL\n"
   ]
  },
  {
   "cell_type": "markdown",
   "id": "36a77733",
   "metadata": {},
   "source": [
    "### Some of the commonly used libraries used by Data Scientists include:\n",
    "1.Tensorflow\n",
    "2.Numpy\n",
    "3.Scipy\n",
    "4.Matplotlib"
   ]
  },
  {
   "cell_type": "markdown",
   "id": "f60c9724",
   "metadata": {},
   "source": [
    "\n",
    "|DATA SCIENCE TOOLS|\n",
    "|------------------|\n",
    "|R Studio.         |\n",
    "|Apache spark      |\n",
    "|Tensor flow.      |\n"
   ]
  },
  {
   "cell_type": "markdown",
   "id": "db4238a7",
   "metadata": {},
   "source": [
    "###  Below are a few examples of evaluating arithmetic expressions in Python."
   ]
  },
  {
   "cell_type": "code",
   "execution_count": 5,
   "id": "94222a47",
   "metadata": {},
   "outputs": [
    {
     "data": {
      "text/plain": [
       "17"
      ]
     },
     "execution_count": 5,
     "metadata": {},
     "output_type": "execute_result"
    }
   ],
   "source": [
    "(3*4)+5\n",
    "\n",
    "# This a simple arithmetic expression to mutiply then add integers.\n"
   ]
  },
  {
   "cell_type": "code",
   "execution_count": 15,
   "id": "fbaf596d",
   "metadata": {},
   "outputs": [
    {
     "name": "stdout",
     "output_type": "stream",
     "text": [
      "02:200:00\n"
     ]
    }
   ],
   "source": [
    "def hms(seconds):\n",
    "    h = seconds // 3600\n",
    "    m = seconds % 3600 // 60\n",
    "    s = seconds % 3600 % 60\n",
    "    return '{:02d}:{:02d}:{:02d}'.format(h, 200, s)\n",
    "\n",
    "print(hms(7500))  # Should print 02h05m00s\n",
    "#This will convert 200 minutes to hours by diving by 60."
   ]
  },
  {
   "cell_type": "markdown",
   "id": "14d0124e",
   "metadata": {},
   "source": [
    "# OBJECTIVES\n",
    "## List popular languages for Data Science.\n",
    "\n",
    "*Python\n",
    "*R\n",
    "*Apache spark\n",
    "*Scala\n",
    "*SQL"
   ]
  },
  {
   "cell_type": "markdown",
   "id": "4f536a5c",
   "metadata": {},
   "source": [
    "## Author\n",
    "\n",
    "Sindhuja "
   ]
  },
  {
   "cell_type": "code",
   "execution_count": null,
   "id": "b822b4b8",
   "metadata": {},
   "outputs": [],
   "source": []
  }
 ],
 "metadata": {
  "kernelspec": {
   "display_name": "Python 3 (ipykernel)",
   "language": "python",
   "name": "python3"
  },
  "language_info": {
   "codemirror_mode": {
    "name": "ipython",
    "version": 3
   },
   "file_extension": ".py",
   "mimetype": "text/x-python",
   "name": "python",
   "nbconvert_exporter": "python",
   "pygments_lexer": "ipython3",
   "version": "3.10.9"
  }
 },
 "nbformat": 4,
 "nbformat_minor": 5
}
